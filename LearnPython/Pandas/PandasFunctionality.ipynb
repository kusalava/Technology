{
 "cells": [
  {
   "cell_type": "code",
   "execution_count": 3,
   "metadata": {},
   "outputs": [],
   "source": [
    "import numpy as np\n",
    "import pandas as pd"
   ]
  },
  {
   "cell_type": "code",
   "execution_count": 17,
   "metadata": {},
   "outputs": [
    {
     "data": {
      "text/html": [
       "<div>\n",
       "<style scoped>\n",
       "    .dataframe tbody tr th:only-of-type {\n",
       "        vertical-align: middle;\n",
       "    }\n",
       "\n",
       "    .dataframe tbody tr th {\n",
       "        vertical-align: top;\n",
       "    }\n",
       "\n",
       "    .dataframe thead th {\n",
       "        text-align: right;\n",
       "    }\n",
       "</style>\n",
       "<table border=\"1\" class=\"dataframe\">\n",
       "  <thead>\n",
       "    <tr style=\"text-align: right;\">\n",
       "      <th></th>\n",
       "      <th>X</th>\n",
       "      <th>Y</th>\n",
       "    </tr>\n",
       "  </thead>\n",
       "  <tbody>\n",
       "    <tr>\n",
       "      <th>0</th>\n",
       "      <td>0</td>\n",
       "      <td>1</td>\n",
       "    </tr>\n",
       "    <tr>\n",
       "      <th>1</th>\n",
       "      <td>2</td>\n",
       "      <td>3</td>\n",
       "    </tr>\n",
       "    <tr>\n",
       "      <th>2</th>\n",
       "      <td>4</td>\n",
       "      <td>5</td>\n",
       "    </tr>\n",
       "    <tr>\n",
       "      <th>3</th>\n",
       "      <td>6</td>\n",
       "      <td>7</td>\n",
       "    </tr>\n",
       "    <tr>\n",
       "      <th>4</th>\n",
       "      <td>8</td>\n",
       "      <td>9</td>\n",
       "    </tr>\n",
       "    <tr>\n",
       "      <th>5</th>\n",
       "      <td>10</td>\n",
       "      <td>11</td>\n",
       "    </tr>\n",
       "    <tr>\n",
       "      <th>6</th>\n",
       "      <td>12</td>\n",
       "      <td>13</td>\n",
       "    </tr>\n",
       "    <tr>\n",
       "      <th>7</th>\n",
       "      <td>14</td>\n",
       "      <td>15</td>\n",
       "    </tr>\n",
       "    <tr>\n",
       "      <th>8</th>\n",
       "      <td>16</td>\n",
       "      <td>17</td>\n",
       "    </tr>\n",
       "    <tr>\n",
       "      <th>9</th>\n",
       "      <td>18</td>\n",
       "      <td>19</td>\n",
       "    </tr>\n",
       "    <tr>\n",
       "      <th>10</th>\n",
       "      <td>20</td>\n",
       "      <td>21</td>\n",
       "    </tr>\n",
       "    <tr>\n",
       "      <th>11</th>\n",
       "      <td>22</td>\n",
       "      <td>23</td>\n",
       "    </tr>\n",
       "    <tr>\n",
       "      <th>12</th>\n",
       "      <td>24</td>\n",
       "      <td>25</td>\n",
       "    </tr>\n",
       "    <tr>\n",
       "      <th>13</th>\n",
       "      <td>26</td>\n",
       "      <td>27</td>\n",
       "    </tr>\n",
       "    <tr>\n",
       "      <th>14</th>\n",
       "      <td>28</td>\n",
       "      <td>29</td>\n",
       "    </tr>\n",
       "  </tbody>\n",
       "</table>\n",
       "</div>"
      ],
      "text/plain": [
       "     X   Y\n",
       "0    0   1\n",
       "1    2   3\n",
       "2    4   5\n",
       "3    6   7\n",
       "4    8   9\n",
       "5   10  11\n",
       "6   12  13\n",
       "7   14  15\n",
       "8   16  17\n",
       "9   18  19\n",
       "10  20  21\n",
       "11  22  23\n",
       "12  24  25\n",
       "13  26  27\n",
       "14  28  29"
      ]
     },
     "execution_count": 17,
     "metadata": {},
     "output_type": "execute_result"
    }
   ],
   "source": [
    "df = pd.DataFrame(np.arange(30).reshape(15,2),columns=['X','Y'])\n",
    "df"
   ]
  },
  {
   "cell_type": "markdown",
   "metadata": {},
   "source": []
  },
  {
   "cell_type": "code",
   "execution_count": 36,
   "metadata": {},
   "outputs": [
    {
     "name": "stdout",
     "output_type": "stream",
     "text": [
      "sum- X    210\n",
      "Y    225\n",
      "dtype: int64\n",
      "mean- X    14.0\n",
      "Y    15.0\n",
      "dtype: float64\n",
      "axis -  0      1\n",
      "1      5\n",
      "2      9\n",
      "3     13\n",
      "4     17\n",
      "5     21\n",
      "6     25\n",
      "7     29\n",
      "8     33\n",
      "9     37\n",
      "10    41\n",
      "11    45\n",
      "12    49\n",
      "13    53\n",
      "14    57\n",
      "dtype: int64\n",
      "std- X    8.944272\n",
      "Y    8.944272\n",
      "dtype: float64\n",
      "median- X    14.0\n",
      "Y    15.0\n",
      "dtype: float64\n",
      "product- X             0\n",
      "Y   -1470487873\n",
      "dtype: int32\n",
      "minimum- X    0\n",
      "Y    1\n",
      "dtype: int32\n",
      "maximum- X    28\n",
      "Y    29\n",
      "dtype: int32\n"
     ]
    }
   ],
   "source": [
    "print('sum-',df.sum())\n",
    "print('mean-',df.mean())\n",
    "print('axis - ',df.sum(1))\n",
    "print('std-',df.std())\n",
    "print('median-',df.median())\n",
    "print('product-',df.prod())\n",
    "print('minimum-',df.min())\n",
    "print('maximum-',df.max())"
   ]
  },
  {
   "cell_type": "code",
   "execution_count": 39,
   "metadata": {},
   "outputs": [
    {
     "name": "stdout",
     "output_type": "stream",
     "text": [
      "Cumilative sum--       X    Y\n",
      "0     0    1\n",
      "1     2    4\n",
      "2     6    9\n",
      "3    12   16\n",
      "4    20   25\n",
      "5    30   36\n",
      "6    42   49\n",
      "7    56   64\n",
      "8    72   81\n",
      "9    90  100\n",
      "10  110  121\n",
      "11  132  144\n",
      "12  156  169\n",
      "13  182  196\n",
      "14  210  225\n",
      "Cumilative product--     X           Y\n",
      "0   0           1\n",
      "1   0           3\n",
      "2   0          15\n",
      "3   0         105\n",
      "4   0         945\n",
      "5   0       10395\n",
      "6   0      135135\n",
      "7   0     2027025\n",
      "8   0    34459425\n",
      "9   0   654729075\n",
      "10  0   864408687\n",
      "11  0 -1593436679\n",
      "12  0 -1181211311\n",
      "13  0 -1827934325\n",
      "14  0 -1470487873\n",
      "     X   Y\n",
      "0    0   1\n",
      "1    2   3\n",
      "2    4   5\n",
      "3    6   7\n",
      "4    8   9\n",
      "5   10  11\n",
      "6   12  13\n",
      "7   14  15\n",
      "8   16  17\n",
      "9   18  19\n",
      "10  20  21\n",
      "11  22  23\n",
      "12  24  25\n",
      "13  26  27\n",
      "14  28  29\n"
     ]
    }
   ],
   "source": [
    "print('Cumilative sum--',df.cumsum())\n",
    "print('Cumilative product--',df.cumprod())\n",
    "print(df)"
   ]
  },
  {
   "cell_type": "code",
   "execution_count": 47,
   "metadata": {},
   "outputs": [
    {
     "name": "stdout",
     "output_type": "stream",
     "text": [
      "<bound method NDFrame.describe of      X   Y\n",
      "0    0   1\n",
      "1    2   3\n",
      "2    4   5\n",
      "3    6   7\n",
      "4    8   9\n",
      "5   10  11\n",
      "6   12  13\n",
      "7   14  15\n",
      "8   16  17\n",
      "9   18  19\n",
      "10  20  21\n",
      "11  22  23\n",
      "12  24  25\n",
      "13  26  27\n",
      "14  28  29>\n",
      "               X          Y\n",
      "count  15.000000  15.000000\n",
      "mean   14.000000  15.000000\n",
      "std     8.944272   8.944272\n",
      "min     0.000000   1.000000\n",
      "25%     7.000000   8.000000\n",
      "50%    14.000000  15.000000\n",
      "75%    21.000000  22.000000\n",
      "max    28.000000  29.000000\n"
     ]
    }
   ],
   "source": [
    "print(df.describe)\n",
    "print(df.describe(include=['number']))"
   ]
  },
  {
   "cell_type": "code",
   "execution_count": 59,
   "metadata": {},
   "outputs": [
    {
     "name": "stdout",
     "output_type": "stream",
     "text": [
      "       col1      col2      cpl3\n",
      "0 -0.549219  0.429633 -0.613391\n",
      "1 -0.924731  0.430571 -0.268226\n",
      "2 -0.571104  2.047722 -0.512492\n",
      "3  0.590406 -1.118691 -0.893112\n",
      "4  0.456452 -1.591280 -1.315457\n",
      "       col1      col2      cpl3\n",
      "0  1.450781  2.429633  1.386609\n",
      "1  1.075269  2.430571  1.731774\n",
      "2  1.428896  4.047722  1.487508\n",
      "3  2.590406  0.881309  1.106888\n",
      "4  2.456452  0.408720  0.684543\n",
      "col1   -0.199639\n",
      "col2    0.039591\n",
      "cpl3   -0.720536\n",
      "dtype: float64\n"
     ]
    }
   ],
   "source": [
    "edf = pd.DataFrame(np.random.randn(5,3),columns = ['col1','col2','cpl3'])\n",
    "print(edf)\n",
    "def adder(e1,e2):\n",
    "    return e1+e2\n",
    "print(edf.pipe(adder,2))\n",
    "print(edf.apply(np.mean))"
   ]
  },
  {
   "cell_type": "code",
   "execution_count": 60,
   "metadata": {},
   "outputs": [],
   "source": [
    "#Reindexing the pandas dataframe"
   ]
  },
  {
   "cell_type": "code",
   "execution_count": 115,
   "metadata": {},
   "outputs": [
    {
     "name": "stdout",
     "output_type": "stream",
     "text": [
      "    0  1\n",
      "5   0  1\n",
      "10  2  3\n"
     ]
    },
    {
     "data": {
      "text/html": [
       "<div>\n",
       "<style scoped>\n",
       "    .dataframe tbody tr th:only-of-type {\n",
       "        vertical-align: middle;\n",
       "    }\n",
       "\n",
       "    .dataframe tbody tr th {\n",
       "        vertical-align: top;\n",
       "    }\n",
       "\n",
       "    .dataframe thead th {\n",
       "        text-align: right;\n",
       "    }\n",
       "</style>\n",
       "<table border=\"1\" class=\"dataframe\">\n",
       "  <thead>\n",
       "    <tr style=\"text-align: right;\">\n",
       "      <th></th>\n",
       "      <th>0</th>\n",
       "      <th>1</th>\n",
       "    </tr>\n",
       "  </thead>\n",
       "  <tbody>\n",
       "    <tr>\n",
       "      <th>5</th>\n",
       "      <td>0</td>\n",
       "      <td>1</td>\n",
       "    </tr>\n",
       "    <tr>\n",
       "      <th>10</th>\n",
       "      <td>2</td>\n",
       "      <td>3</td>\n",
       "    </tr>\n",
       "  </tbody>\n",
       "</table>\n",
       "</div>"
      ],
      "text/plain": [
       "    0  1\n",
       "5   0  1\n",
       "10  2  3"
      ]
     },
     "execution_count": 115,
     "metadata": {},
     "output_type": "execute_result"
    }
   ],
   "source": [
    "un_df = pd.DataFrame(np.arange(4).reshape(2,2),index = [5,10])\n",
    "print(un_df)\n",
    "x = [5,10]\n",
    "un_df.reindex(x)"
   ]
  },
  {
   "cell_type": "code",
   "execution_count": 120,
   "metadata": {},
   "outputs": [
    {
     "name": "stdout",
     "output_type": "stream",
     "text": [
      "   A  B\n",
      "Z  0  1\n",
      "Y  2  3\n"
     ]
    }
   ],
   "source": [
    "un_df=un_df.rename(columns = {0:'A',1:'B'},index = {5:'Z',10:'Y'})\n",
    "print(un_df)"
   ]
  },
  {
   "cell_type": "code",
   "execution_count": 126,
   "metadata": {},
   "outputs": [
    {
     "name": "stdout",
     "output_type": "stream",
     "text": [
      "col1 0      0\n",
      "1      2\n",
      "2      4\n",
      "3      6\n",
      "4      8\n",
      "5     10\n",
      "6     12\n",
      "7     14\n",
      "8     16\n",
      "9     18\n",
      "10    20\n",
      "11    22\n",
      "12    24\n",
      "13    26\n",
      "14    28\n",
      "Name: col1, dtype: int32\n",
      "col2 0      1\n",
      "1      3\n",
      "2      5\n",
      "3      7\n",
      "4      9\n",
      "5     11\n",
      "6     13\n",
      "7     15\n",
      "8     17\n",
      "9     19\n",
      "10    21\n",
      "11    23\n",
      "12    25\n",
      "13    27\n",
      "14    29\n",
      "Name: col2, dtype: int32\n"
     ]
    }
   ],
   "source": [
    "# Example for iteritems\n",
    "\n",
    "dfit = pd.DataFrame(np.arange(30).reshape(15,2),columns = ['col1','col2'])\n",
    "for key,value in dfit.iteritems():\n",
    "    print(key,value)"
   ]
  },
  {
   "cell_type": "code",
   "execution_count": 128,
   "metadata": {},
   "outputs": [
    {
     "name": "stdout",
     "output_type": "stream",
     "text": [
      "0 col1    0\n",
      "col2    1\n",
      "Name: 0, dtype: int32\n",
      "1 col1    2\n",
      "col2    3\n",
      "Name: 1, dtype: int32\n",
      "2 col1    4\n",
      "col2    5\n",
      "Name: 2, dtype: int32\n",
      "3 col1    6\n",
      "col2    7\n",
      "Name: 3, dtype: int32\n",
      "4 col1    8\n",
      "col2    9\n",
      "Name: 4, dtype: int32\n",
      "5 col1    10\n",
      "col2    11\n",
      "Name: 5, dtype: int32\n",
      "6 col1    12\n",
      "col2    13\n",
      "Name: 6, dtype: int32\n",
      "7 col1    14\n",
      "col2    15\n",
      "Name: 7, dtype: int32\n",
      "8 col1    16\n",
      "col2    17\n",
      "Name: 8, dtype: int32\n",
      "9 col1    18\n",
      "col2    19\n",
      "Name: 9, dtype: int32\n",
      "10 col1    20\n",
      "col2    21\n",
      "Name: 10, dtype: int32\n",
      "11 col1    22\n",
      "col2    23\n",
      "Name: 11, dtype: int32\n",
      "12 col1    24\n",
      "col2    25\n",
      "Name: 12, dtype: int32\n",
      "13 col1    26\n",
      "col2    27\n",
      "Name: 13, dtype: int32\n",
      "14 col1    28\n",
      "col2    29\n",
      "Name: 14, dtype: int32\n"
     ]
    }
   ],
   "source": [
    "for row_index,row in dfit.iterrows():\n",
    "    print(row_index,row)"
   ]
  },
  {
   "cell_type": "code",
   "execution_count": 130,
   "metadata": {},
   "outputs": [
    {
     "name": "stdout",
     "output_type": "stream",
     "text": [
      "Pandas(Index=0, col1=0, col2=1)\n",
      "Pandas(Index=1, col1=2, col2=3)\n",
      "Pandas(Index=2, col1=4, col2=5)\n",
      "Pandas(Index=3, col1=6, col2=7)\n",
      "Pandas(Index=4, col1=8, col2=9)\n",
      "Pandas(Index=5, col1=10, col2=11)\n",
      "Pandas(Index=6, col1=12, col2=13)\n",
      "Pandas(Index=7, col1=14, col2=15)\n",
      "Pandas(Index=8, col1=16, col2=17)\n",
      "Pandas(Index=9, col1=18, col2=19)\n",
      "Pandas(Index=10, col1=20, col2=21)\n",
      "Pandas(Index=11, col1=22, col2=23)\n",
      "Pandas(Index=12, col1=24, col2=25)\n",
      "Pandas(Index=13, col1=26, col2=27)\n",
      "Pandas(Index=14, col1=28, col2=29)\n"
     ]
    }
   ],
   "source": [
    "for row in dfit.itertuples():\n",
    "    print(row)"
   ]
  },
  {
   "cell_type": "code",
   "execution_count": 140,
   "metadata": {},
   "outputs": [
    {
     "name": "stdout",
     "output_type": "stream",
     "text": [
      "     X   Y\n",
      "0    0   1\n",
      "1    2   3\n",
      "2    4   5\n",
      "3    6   7\n",
      "4    8   9\n",
      "5   10  11\n",
      "6   12  13\n",
      "7   14  15\n",
      "8   16  17\n",
      "9   18  19\n",
      "10  20  21\n",
      "11  22  23\n",
      "12  24  25\n",
      "13  26  27\n",
      "14  28  29\n",
      "     X   Y\n",
      "14  28  29\n",
      "13  26  27\n",
      "12  24  25\n",
      "11  22  23\n",
      "10  20  21\n",
      "9   18  19\n",
      "8   16  17\n",
      "7   14  15\n",
      "6   12  13\n",
      "5   10  11\n",
      "4    8   9\n",
      "3    6   7\n",
      "2    4   5\n",
      "1    2   3\n",
      "0    0   1\n"
     ]
    }
   ],
   "source": [
    "# Sortings  in data Frame\n",
    "unsorted_df = pd.DataFrame(np.arange(30).reshape(15,2),columns=['X','Y'])\n",
    "print(unsorted_df)\n",
    "sorted_df = unsorted_df.sort_index(ascending=False)\n",
    "sorted_df = unsorted_df.sort_values(by='X',ascending=False)\n",
    "print(sorted_df)"
   ]
  },
  {
   "cell_type": "code",
   "execution_count": 150,
   "metadata": {},
   "outputs": [
    {
     "name": "stdout",
     "output_type": "stream",
     "text": [
      "     a    b\n",
      "0  abc  bca\n",
      "1    a    b\n"
     ]
    },
    {
     "data": {
      "text/plain": [
       "0    BCA\n",
       "1      B\n",
       "Name: b, dtype: object"
      ]
     },
     "execution_count": 150,
     "metadata": {},
     "output_type": "execute_result"
    }
   ],
   "source": [
    " #Pandas Functions\n",
    "df = pd.DataFrame([['abc','bca'],['a','b']],columns=['a','b'])\n",
    "print(df)\n",
    "\n",
    "df = df['b'].str.upper()\n",
    "df"
   ]
  },
  {
   "cell_type": "markdown",
   "metadata": {},
   "source": [
    "#### indexing\n",
    "pix = pd.DataFrame(np.arange(30).reshape(15,2),columns=['A','B'])\n",
    "print(pix.loc[:,['A']]) # for only colimns\n",
    "print(pix.loc[[0,1,2,3,10],['A']])\n",
    "print(pix.iloc[1:7,:])"
   ]
  }
 ],
 "metadata": {
  "kernelspec": {
   "display_name": "Python 3",
   "language": "python",
   "name": "python3"
  },
  "language_info": {
   "codemirror_mode": {
    "name": "ipython",
    "version": 3
   },
   "file_extension": ".py",
   "mimetype": "text/x-python",
   "name": "python",
   "nbconvert_exporter": "python",
   "pygments_lexer": "ipython3",
   "version": "3.7.0"
  }
 },
 "nbformat": 4,
 "nbformat_minor": 2
}
